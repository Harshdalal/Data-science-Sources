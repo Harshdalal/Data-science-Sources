{
 "cells": [
  {
   "cell_type": "markdown",
   "metadata": {},
   "source": [
    "<h1><center><font color=#128989>Datasets Library"
   ]
  },
  {
   "cell_type": "markdown",
   "metadata": {},
   "source": [
    "## Popular resources to get datasets\n",
    "\n",
    "- Google Dataset search Engine - https://toolbox.google.com/datasetsearch\n",
    "- AWS Datasets - https://registry.opendata.aws/\n",
    "- Microsoft Open Data Repository - https://msropendata.com/\n",
    "- UCI Machine Learning - https://archive.ics.uci.edu/ml/datasets.php \n",
    "- Kaggle Datasets - https://www.kaggle.com/datasets\n",
    "- Yelp Open Datasets - https://www.yelp.com/dataset\n",
    "\n",
    "\n",
    "\n",
    "### Government Open Data Repository\n",
    "\n",
    "- World Bank Data - https://data.worldbank.org/\n",
    "- UNICEF Datasets - https://data.unicef.org/\n",
    "- US Government open Data - https://www.data.gov/open-gov/\n",
    "- Indian Government Data - https://data.gov.in/\n",
    "- Canada Open Data - https://open.canada.ca/en\n",
    "- United Nations - http://data.un.org/\n",
    "- China National Open Data - http://data.stats.gov.cn/english/\n",
    "- Germany Open Data - https://www-genesis.destatis.de/genesis/online\n",
    "- France Open Data - https://www.data.gouv.fr/en/datasets/\n",
    "- Singapore Open Data - https://data.gov.sg/\n",
    "- South Africa Open Data - http://www.statssa.gov.za/\n",
    "- San Fransisco Open Data - https://datasf.org/\n",
    "\n",
    "\n",
    "### Other sources - \n",
    "https://github.com/awesomedata/awesome-public-datasets\n",
    "\n"
   ]
  },
  {
   "cell_type": "markdown",
   "metadata": {},
   "source": []
  },
  {
   "cell_type": "markdown",
   "metadata": {},
   "source": []
  }
 ],
 "metadata": {
  "kernelspec": {
   "display_name": "Python 3",
   "language": "python",
   "name": "python3"
  },
  "language_info": {
   "codemirror_mode": {
    "name": "ipython",
    "version": 3
   },
   "file_extension": ".py",
   "mimetype": "text/x-python",
   "name": "python",
   "nbconvert_exporter": "python",
   "pygments_lexer": "ipython3",
   "version": "3.7.4"
  }
 },
 "nbformat": 4,
 "nbformat_minor": 2
}
