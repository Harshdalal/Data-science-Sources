{
 "cells": [
  {
   "cell_type": "markdown",
   "metadata": {},
   "source": [
    "<h1><center><font color=#128989>Data Science Books"
   ]
  },
  {
   "cell_type": "markdown",
   "metadata": {},
   "source": [
    "## 1. Statistics"
   ]
  },
  {
   "cell_type": "markdown",
   "metadata": {},
   "source": [
    "`Business Statistics by Ken Black`\n",
    "\n",
    "    This is one the best book you should start to learn statistics, the author takes through mutliple real world business examples to make the reader understand the importance and use of statistical methods to solve business problems.\n",
    " \n",
    "Link - https://drive.google.com/open?id=1AErGr0u1WYz5pF3NXGiNKxq1TCiNQGSS\n",
    " \n",
    "\n",
    "------------------------------------\n",
    "`Statistics and Machine Learning in Python By Edouard Duchesnay, Tommy Löfstedt`\n",
    "\n",
    "    This book covers statistics and Maachine Learning algorithm short explanation and python implementation. It is a great book for review of concepts.\n",
    "\n",
    "Link - https://drive.google.com/file/d/1O11TC6mb5ePbY354mj2ugGN67UoYvYnm/view?usp=sharing\n",
    "\n"
   ]
  },
  {
   "cell_type": "markdown",
   "metadata": {},
   "source": [
    "## 2. Machine Learning Algorithms"
   ]
  },
  {
   "cell_type": "markdown",
   "metadata": {},
   "source": [
    "`Python Data Science Handbook by Jake VanderPlas`\n",
    "\n",
    "    This is one of the best books to dive deeper into data science concepts and understad python implementation of the algorithms as well.\n",
    "\n",
    "Link - https://jakevdp.github.io/PythonDataScienceHandbook/index.html \n",
    "\n",
    "------------------------------------------------------\n",
    "\n",
    "`The Elements of Statistical Learning By Trevor Hastie, Robert Tibshirani & Jerome Friedman `\n",
    "\n",
    "    A great book for understanding Machine Learning Algorithms and mathematics behind algorithms\n",
    "\n",
    "Link - https://drive.google.com/file/d/1ThTe-adq-wVJYaB3ESxD7rBleUWnt5Cj/view"
   ]
  },
  {
   "cell_type": "markdown",
   "metadata": {},
   "source": [
    "## 3. Linear Algebra"
   ]
  },
  {
   "cell_type": "markdown",
   "metadata": {},
   "source": [
    "`No bullshit guide to linear algebra By Ivan Savov`\n",
    "\n",
    "    This is a good book to learn Linear Algebra from Basics and understand deeper concepts.\n",
    "\n",
    "Link - https://www.dropbox.com/s/wtdm0tpshzqyy6h/Nobullshitguidetolinearalgebra.pdf?dl=0"
   ]
  },
  {
   "cell_type": "code",
   "execution_count": null,
   "metadata": {},
   "outputs": [],
   "source": []
  }
 ],
 "metadata": {
  "kernelspec": {
   "display_name": "Python 3",
   "language": "python",
   "name": "python3"
  },
  "language_info": {
   "codemirror_mode": {
    "name": "ipython",
    "version": 3
   },
   "file_extension": ".py",
   "mimetype": "text/x-python",
   "name": "python",
   "nbconvert_exporter": "python",
   "pygments_lexer": "ipython3",
   "version": "3.7.4"
  }
 },
 "nbformat": 4,
 "nbformat_minor": 2
}
